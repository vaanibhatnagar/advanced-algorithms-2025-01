{
 "cells": [
  {
   "cell_type": "markdown",
   "id": "20f94e96",
   "metadata": {},
   "source": [
    "\n",
    "# Linear Programming Lab\n",
    "\n",
    "## Total: 40 points\n",
    "\n",
    "In this lab, you will explore a useful extension of linear programming duality (covered in class\n",
    "LP Day 1) called linear programming sensitivity analysis. Here, we aim to find:\n",
    "\n",
    "- How does the solution change when the objective function changes?\n",
    "- How does the solution change when the resource limits change?\n",
    "- How does the solution change when a constraint is added to the problem?\n",
    "\n",
    "One approach to these types of questions is solving lots of slightly different linear programming problems. This method would work, but it is inelegant and (for large problems) computationally expensive (but in most cases today, computation is cheap and computing solutions to many problems is a standard technique to study sensitivity in practice). However, there is a more elegant solution\n",
    "that gives these answers just by examining the dual information provided by the Simplex Algorithm.\n",
    "\n",
    "**Consider the following scenario:** An instrument company makes trombones and trumpets. A trombone requires 40 square inches of metal sheet and a trumpet requires 30 square inches of metal. Metal costs $1 per square inch and 40,000 square inches are available. It takes two hours of skilled labor to make a novice quality trombone or a novice quality trumpet. Three more hours of skilled labor will turn a novice quality trombone into a professional trombone. Two more hours of skilled labor will turn a novice quality trumpet into a professional trumpet. There are 6000 hours of skilled labor available. Assume that you do not need to pay for labor. Assume that you can sell fractional trombones and trumpets. The market selling prices and production costs are given in the following table:\n",
    "\n",
    "| Product    | Market Price | Cost (metal $1/sq.in.) |\n",
    "| -------- | ------- | ------- |\n",
    "| Novice Trombone | $70 | $40 |\n",
    "| Professional Trombone | $140 | $40 |\n",
    "| Novice Trumpet | $60 | $30 |\n",
    "| Professional Trumpet | $110 | $30 |\n",
    "\n",
    "---\n"
   ]
  },
  {
   "cell_type": "markdown",
   "id": "8c34dead",
   "metadata": {},
   "source": [
    "# Problem 1: Formulate the LP (5 points)\n",
    "## 1a: Set up the LP (3 points)\n",
    "\n",
    "Write an objective function that maximizes profits (market price - production\n",
    "costs) and all constraints.\n",
    "\n",
    "### Instructions\n",
    "- Write the equations, using LaTeX, between the $$ tags. Then convert the LP problem into code by referring to this documentation: [PuLP Guide](https://realpython.com/linear-programming-python/#using-pulp)"
   ]
  },
  {
   "cell_type": "markdown",
   "id": "c30746dd",
   "metadata": {},
   "source": [
    "### Solution:\n",
    "Objective Function: $$ Z = 30x_1 + 100x_2 + 30x_3 + 80x_4 $$\n",
    "Constraints:\n",
    "- Metal usage constraint: $$ 40x_1 + 40x_2 + 30x_3 + 30x_4 \\le 40000 $$\n",
    "- Labor usage constraint: $$ 2x_1 + 5x_2 + 2x_3 + 4x_4  \\le 6000 $$\n",
    "- Non-negativity constraint: $$ x_1, x_2, x_3, x_4 \\ge 0 $$"
   ]
  },
  {
   "cell_type": "code",
   "execution_count": null,
   "id": "592d8519",
   "metadata": {},
   "outputs": [],
   "source": [
    "from pulp import LpMaximize, LpProblem, LpVariable, LpStatus, PULP_CBC_CMD\n",
    "import copy\n",
    "\n",
    "# Define the problem\n",
    "main_model = LpProblem(name=\"instrument-production\", sense=LpMaximize) # (please do not rename this variable as it's used later in the notebook)\n",
    "\n",
    "# Define variables\n",
    "x1 = LpVariable(name=\"x1\", lowBound=0)  # Novice Trombone\n",
    "x2 = LpVariable(name=\"x2\", lowBound=0)  # Professional Trombone\n",
    "x3 = LpVariable(name=\"x3\", lowBound=0)  # Novice Trumpet\n",
    "x4 = LpVariable(name=\"x4\", lowBound=0)  # Professional Trumpet\n",
    "\n",
    "# Objective function\n",
    "main_model += 30 * x1 + 100 * x2 + 30 * x3 + 80 * x4\n",
    "# Constraints\n",
    "# 1. Total metal sheet used\n",
    "main_model += (40 * x1 + 40 * x2 + 30 * x3 + 30 * x4 <= 40000, \"Metal_Sheet_Constraint\")\n",
    "# 2. Total skilled labor hours used\n",
    "main_model += (2 * x1 + 5 * x2 + 2 * x3 + 4 * x4 <= 6000, \"labor_usage_constraint\")\n",
    "# 3. Non-negativity constraints (already enforced by lowBound=0 in variable definition)"
   ]
  },
  {
   "cell_type": "markdown",
   "id": "e1fa5efc",
   "metadata": {},
   "source": [
    "## 1b) Solve the LP Computationally (1 point)\n",
    "Use the model we created above to find the optimal profit. Run the code block below to solve the problem."
   ]
  },
  {
   "cell_type": "markdown",
   "id": "b8ee79ad",
   "metadata": {},
   "source": [
    "### Solution:\n",
    "\n",
    "Optimal Profit: $"
   ]
  },
  {
   "cell_type": "code",
   "execution_count": 57,
   "id": "a1e36d90",
   "metadata": {},
   "outputs": [
    {
     "data": {
      "text/plain": [
       "1"
      ]
     },
     "execution_count": 57,
     "metadata": {},
     "output_type": "execute_result"
    }
   ],
   "source": [
    "# Solve the problem\n",
    "main_model.solve()"
   ]
  },
  {
   "cell_type": "markdown",
   "id": "1bc7a7aa",
   "metadata": {},
   "source": [
    "## 1c.) What is the optimal number of each instrument to produce? (1 point)\n",
    "Run the code cell below to find the optimal value for each variable in the model. Fill in the table below.\n",
    "### Solution:\n",
    "\n",
    "| Variable    | Value |\n",
    "| -------- | ------- |\n",
    "| x1 | 0 |\n",
    "| x2 | 0 |\n",
    "| x3 | 0 |\n",
    "| x4 | 1333 |"
   ]
  },
  {
   "cell_type": "code",
   "execution_count": 58,
   "id": "7997d85f",
   "metadata": {},
   "outputs": [
    {
     "name": "stdout",
     "output_type": "stream",
     "text": [
      "x1 0.0\n",
      "x2 0.0\n",
      "x3 0.0\n",
      "x4 1333.3333\n"
     ]
    }
   ],
   "source": [
    "for var in main_model.variables():\n",
    "    print(var.name, var.value())"
   ]
  },
  {
   "cell_type": "markdown",
   "id": "17cfb887",
   "metadata": {},
   "source": [
    "# Problem 2: Sensitivity of Novice Quality Trumpets (5 points)\n",
    "\n",
    "## 2a) (2 points)\n",
    "\n",
    "What would happen if the market price of novice quality trumpets went up? In other words, how much can the market price coefficient in the objective function change without causing the optimal basis to change? This is also called “allowable increase.” You are provided a helper function to find the allowable increase. Try messing with the parameters and looking at the source code in the `helpers.py` file to understand how it works."
   ]
  },
  {
   "cell_type": "markdown",
   "id": "ca1b30dd",
   "metadata": {},
   "source": [
    "### Solution:\n",
    "\n",
    "The allowable increase for the market price of novice quality trumpets is $50.\n",
    "\n",
    "This means that the selling price of novice trumpets can increase by up to $50 (from $60 to $110) before the optimal production plan changes. As long as the new price remains below $110, the company should still only produce professional trumpets. However, if the price exceeds $110, it may become profitable to produce novice trumpets as well, and the optimal strategy will change."
   ]
  },
  {
   "cell_type": "code",
   "execution_count": 59,
   "id": "21680bc7",
   "metadata": {},
   "outputs": [
    {
     "name": "stdout",
     "output_type": "stream",
     "text": [
      "Iteration 1: Coefficient of x3: 60, Objective value: 106666.664, Solution: {'x1': 0.0, 'x2': 0.0, 'x3': 0.0, 'x4': 1333.3333}\n",
      "----------------------------------------\n",
      "Iteration 2: Coefficient of x3: 65, Objective value: 106666.664, Solution: {'x1': 0.0, 'x2': 0.0, 'x3': 0.0, 'x4': 1333.3333}\n",
      "----------------------------------------\n",
      "Iteration 3: Coefficient of x3: 70, Objective value: 106666.664, Solution: {'x1': 0.0, 'x2': 0.0, 'x3': 0.0, 'x4': 1333.3333}\n",
      "----------------------------------------\n",
      "Iteration 4: Coefficient of x3: 75, Objective value: 106666.664, Solution: {'x1': 0.0, 'x2': 0.0, 'x3': 0.0, 'x4': 1333.3333}\n",
      "----------------------------------------\n",
      "Iteration 5: Coefficient of x3: 80, Objective value: 106666.664, Solution: {'x1': 0.0, 'x2': 0.0, 'x3': 0.0, 'x4': 1333.3333}\n",
      "----------------------------------------\n",
      "Iteration 6: Coefficient of x3: 85, Objective value: 106666.664, Solution: {'x1': 0.0, 'x2': 0.0, 'x3': 0.0, 'x4': 1333.3333}\n",
      "----------------------------------------\n",
      "Iteration 7: Coefficient of x3: 90, Objective value: 106666.664, Solution: {'x1': 0.0, 'x2': 0.0, 'x3': 0.0, 'x4': 1333.3333}\n",
      "----------------------------------------\n",
      "Iteration 8: Coefficient of x3: 95, Objective value: 106666.664, Solution: {'x1': 0.0, 'x2': 0.0, 'x3': 0.0, 'x4': 1333.3333}\n",
      "----------------------------------------\n",
      "Iteration 9: Coefficient of x3: 100, Objective value: 106666.664, Solution: {'x1': 0.0, 'x2': 0.0, 'x3': 0.0, 'x4': 1333.3333}\n",
      "----------------------------------------\n",
      "Iteration 10: Coefficient of x3: 105, Objective value: 106666.664, Solution: {'x1': 0.0, 'x2': 0.0, 'x3': 0.0, 'x4': 1333.3333}\n",
      "----------------------------------------\n",
      "Iteration 11: Coefficient of x3: 110, Objective value: 106666.664, Solution: {'x1': 0.0, 'x2': 0.0, 'x3': 1333.3333, 'x4': 0.0}\n",
      "----------------------------------------\n",
      "Optimal basis changed at coefficient 110.\n",
      "\n",
      "The allowable increase for x3 is: 50\n"
     ]
    }
   ],
   "source": [
    "from helpers import find_allowable_increase\n",
    "# Run the helper to find the allowable increase for x3\n",
    "allowable_increase = find_allowable_increase(base_model=main_model, var_name=\"x3\", base_coef=60, step=5)\n",
    "\n",
    "print(f\"The allowable increase for x3 is: {allowable_increase}\")"
   ]
  },
  {
   "cell_type": "markdown",
   "id": "04e9faf4",
   "metadata": {},
   "source": [
    "## 2b) (2 points)\n",
    "Would novice trumpets be more profitable than professional trumpets to produce if novice trumpets sold for the same amount as professional quality trumpets?"
   ]
  },
  {
   "cell_type": "markdown",
   "id": "e5f111b0",
   "metadata": {},
   "source": [
    "### Solution:\n",
    "Yes, if novice trumpets sold for $110, they would be more profitable than professional trumpets. The company should only produce novice trumpets because they generate twice the profit per labor hour ($80/2hr vs $80/4hr) while using the same amount of metal."
   ]
  },
  {
   "cell_type": "markdown",
   "id": "f8ec6827",
   "metadata": {},
   "source": [
    "## 2c) (1 point)\n",
    "What would change if the price went down?"
   ]
  },
  {
   "cell_type": "markdown",
   "id": "44757e81",
   "metadata": {},
   "source": [
    "### Solution:\n",
    "If the price of novice trumpets went down, at some point, professional trumpets would become the better choice. The break-even price where both are equally good is $70 - below that, it's better to focus on professional trumpets as the profit per hour of labor becomes less for the novice trumpets than that of the professional ones. Metal usage constraint is not a factor here because they both use the same quanity of metal."
   ]
  },
  {
   "cell_type": "markdown",
   "id": "8eca32b7",
   "metadata": {},
   "source": [
    "# Problem 3: Sensitivity of Novice Quality Trombones (5 points)\n",
    "\n",
    "## 3a) (2 points)\n",
    "\n",
    "What would happen if the market price of novice quality trombones went up? In other words, what is the “allowable increase” in the market price of novice quality trombones?\n"
   ]
  },
  {
   "cell_type": "markdown",
   "id": "e8b6a92f",
   "metadata": {},
   "source": [
    "### Solution:\n",
    "The allowable increase for the market price of novice quality trombones is $77.\n",
    "\n",
    "This means that the selling price of novice quality trombones can increase by up to $77 (from $70 to $147) before the optimal production plan changes. As long as the new price remains below $110, the company should still only produce professional quality trombones. However, if the price exceeds $110, it may become profitable to produce novice quality trombones as well, and the optimal strategy will change."
   ]
  },
  {
   "cell_type": "code",
   "execution_count": 60,
   "id": "96bdc967",
   "metadata": {},
   "outputs": [
    {
     "name": "stdout",
     "output_type": "stream",
     "text": [
      "Optimal basis changed at coefficient 147.\n",
      "\n",
      "The allowable increase for x1 is: 77\n"
     ]
    }
   ],
   "source": [
    "from helpers import find_allowable_increase\n",
    "\n",
    "# setting verbose to False since we take smaller steps for this variable and don't want to print every iteration\n",
    "allowable_increase = find_allowable_increase(base_model=main_model, var_name=\"x1\", base_coef=70, step=1, max_iter=100, verbose=False)\n",
    "\n",
    "print(f\"The allowable increase for x1 is: {allowable_increase}\")"
   ]
  },
  {
   "cell_type": "markdown",
   "id": "6704a335",
   "metadata": {},
   "source": [
    "## 3b) (3 points)\n",
    "Would they be profitable to produce if they sold for the same amount as professional quality trombones? What would make them profitable to produce (intuitive explanation is expected, not specific numbers)?"
   ]
  },
  {
   "cell_type": "markdown",
   "id": "88a39c0e",
   "metadata": {},
   "source": [
    "### Solution:\n",
    "\n",
    "Since the optimal basis changes at the unit price of $147 per novice quality trombone, which is greater than the $140 per professional quality trombone, it would not be more profitable if they were sold for the same amount. Selling the novice quality trombones at or above $147 per piece would make them profitable to produce."
   ]
  },
  {
   "cell_type": "markdown",
   "id": "f37755c5",
   "metadata": {},
   "source": [
    "# Problem 4: Sensitivity of Professional Quality Trumpets (2 points)\n",
    "\n",
    "What would happen to the optimal solution if the price of professional quality trumpets fell to $100? If there is a change, what would the new production plan and optimal profit be?\n",
    "\n",
    "Provide your analysis and corresponding code below."
   ]
  },
  {
   "cell_type": "markdown",
   "id": "b360bf22",
   "metadata": {},
   "source": [
    "### Solution:\n",
    "\n",
    "With the price of professional trumpets reduced to $100, the optimal production plan focuses entirely on producing professional trombones, yielding a profit of $100,000. No novice trombones or trumpets and professional trumpets are produced due to the relative drop in profits from professional trumpets compared to professional trombones.\n"
   ]
  },
  {
   "cell_type": "code",
   "execution_count": null,
   "id": "bec5fa2c",
   "metadata": {},
   "outputs": [
    {
     "name": "stdout",
     "output_type": "stream",
     "text": [
      "Sensitivity Analysis for Professional Quality Trumpets (Price = $100):\n",
      "Objective value (Profit): 100000.0\n",
      "x1: 0.0\n",
      "x2: 1000.0\n",
      "x3: 0.0\n",
      "x4: 0.0\n"
     ]
    }
   ],
   "source": [
    "low_trumpet_model = LpProblem(name=\"instrument-production\", sense=LpMaximize)\n",
    "\n",
    "# Define variables\n",
    "x1 = LpVariable(name=\"x1\", lowBound=0)  # Novice Trombone\n",
    "x2 = LpVariable(name=\"x2\", lowBound=0)  # Professional Trombone\n",
    "x3 = LpVariable(name=\"x3\", lowBound=0)  # Novice Trumpet\n",
    "x4 = LpVariable(name=\"x4\", lowBound=0)  # Professional Trumpet\n",
    "\n",
    "# Re-define Objective function\n",
    "low_trumpet_model += 30 * x1 + 100 * x2 + 30 * x3 + 70 * x4\n",
    "\n",
    "# Constraints\n",
    "low_trumpet_model += 40 * x1 + 40 * x2 + 30 * x3 + 30 * x4 <= 40000, \"Metal Sheet Constraint\"\n",
    "low_trumpet_model += 2 * x1 + 5 * x2 + 2 * x3 + 4 * x4 <= 6000, \"Skilled Labor Constraint\"\n",
    "\n",
    "# Solve the low_trumpet_model\n",
    "low_trumpet_model.solve(PULP_CBC_CMD(msg=0))\n",
    "\n",
    "# Display results\n",
    "print(\"Sensitivity Analysis for Professional Quality Trumpets (Price = $100):\")\n",
    "print(f\"Objective value (Profit): {low_trumpet_model.objective.value()}\")\n",
    "for var in low_trumpet_model.variables():\n",
    "    print(f\"{var.name}: {var.value()}\")"
   ]
  },
  {
   "cell_type": "markdown",
   "metadata": {},
   "source": [
    "# Problem 5: Sensitivity of Metal Resources (8 points)\n",
    "\n",
    "## 5a) (4 points)\n",
    "How do production plans change when metal supplies change? At which point does metal stop being a limiting resource and how do you know?\n",
    "\n",
    "**HINT**: To find out how the production plans change when metal supplies change, you can use a **guess-and-check approach**. \n",
    "\n",
    "1. Start with the current RHS of the \"Metal Sheet Constraint\" (40,000 square inches).\n",
    "2. Gradually increase or decrease the RHS (e.g., by 1,000 or 5,000 units at a time).\n",
    "3. For each adjustment:\n",
    "   - Re-run to solve the problem and record the production plan (values of x_1, x_2, x_3, x_4) and the total profit.\n",
    "   - Compare the new solution to the original solution (at RHS = 40,000).\n",
    "4. Stop increasing when you notice the production plan has stopped changing. The last RHS value before the variable values stop changing is the **RHS Tolerance Upper Bound**.\n",
    "5. Stop decreasing when the model becomes infeasible. The last RHS value before the model becomes infeasible is the **RHS Tolerance Lower Bound**."
   ]
  },
  {
   "cell_type": "markdown",
   "id": "cb50a10c",
   "metadata": {},
   "source": [
    "### Solution:\n",
    "\n",
    "Following the steps listed in the HINT above, the RHS Tolerance Upper Bound for the metal constraint is approximately 45000 square inches with an optimal profit of $120000 after selling 1500 professional quality trumpets. The RHS Tolerance Lower Bound would be 0 square inches of metal since the solution is infeasible."
   ]
  },
  {
   "cell_type": "code",
   "execution_count": null,
   "id": "ebf988d0",
   "metadata": {},
   "outputs": [
    {
     "name": "stdout",
     "output_type": "stream",
     "text": [
      "Initial Solution:\n",
      "Total Profit: $106666.66\n",
      "Production Plan:\n",
      "  x1: 0.0\n",
      "  x2: 0.0\n",
      "  x3: 0.0\n",
      "  x4: 1333.3333\n",
      "\n",
      "Slack Values for Constraints:\n",
      "  Metal_Sheet_Constraint: RHS = -40000, slack = -0.0\n",
      "  labor_usage_constraint: RHS = -6000, slack = 666.6666999999998\n",
      "---------------------------------------------\n",
      "After Adjusting Metal Sheet Constraint:\n",
      "Model Solution Status: Optimal\n",
      "Total Profit: $120000.00\n",
      "Production Plan:\n",
      "  x1: 0.0\n",
      "  x2: 0.0\n",
      "  x3: 0.0\n",
      "  x4: 1500.0\n",
      "\n",
      "Slack Values for Constraints:\n",
      "  Metal_Sheet_Constraint: RHS = -45000, slack = -0.0\n",
      "  labor_usage_constraint: RHS = -6000, slack = -0.0\n"
     ]
    }
   ],
   "source": [
    "rhs_tol_model = copy.deepcopy(main_model)\n",
    "\n",
    "# Print the results\n",
    "print(\"Initial Solution:\")\n",
    "print(f\"Total Profit: ${rhs_tol_model.objective.value():.2f}\")\n",
    "print(\"Production Plan:\")\n",
    "for var in rhs_tol_model.variables():\n",
    "    print(f\"  {var.name}: {var.varValue}\")\n",
    "\n",
    "# Check slack for each constraint\n",
    "print(\"\\nSlack Values for Constraints:\")\n",
    "for name, constraint in rhs_tol_model.constraints.items():\n",
    "    print(f\"  {name}: RHS = {constraint.constant}, slack = {constraint.slack}\")\n",
    "\n",
    "# ---------------------------------------------\n",
    "# Guess-and-Check Setup\n",
    "# ---------------------------------------------\n",
    "# Change the RHS of the \"Metal Sheet Constraint\" below and re-run this block of code.\n",
    "rhs_tol_model.constraints[\"Metal_Sheet_Constraint\"].changeRHS(45000)\n",
    "\n",
    "print(\"---------------------------------------------\")\n",
    "print(\"After Adjusting Metal Sheet Constraint:\")\n",
    "\n",
    "# Re-solve the problem\n",
    "rhs_tol_model.solve(PULP_CBC_CMD(msg=0))\n",
    "print(f\"Model Solution Status: {LpStatus[rhs_tol_model.status]}\")\n",
    "\n",
    "# Print updated results\n",
    "print(f\"Total Profit: ${rhs_tol_model.objective.value():.2f}\")\n",
    "print(\"Production Plan:\")\n",
    "for var in rhs_tol_model.variables():\n",
    "    print(f\"  {var.name}: {var.varValue}\")\n",
    "\n",
    "# Check slack for each constraint\n",
    "print(\"\\nSlack Values for Constraints:\")\n",
    "for name, constraint in rhs_tol_model.constraints.items():\n",
    "    print(f\"  {name}: RHS = {constraint.constant}, slack = {constraint.slack}\")"
   ]
  },
  {
   "cell_type": "markdown",
   "id": "2f8cd676",
   "metadata": {},
   "source": [
    "## 5b) (4 points)\n",
    "**What is the shadow price of metal?**  \n",
    "1. Explain the concept of a shadow price in the context of the \"Metal Sheet Constraint\" and how it impacts the objective function (profit).  \n",
    "2. Using the shadow price, calculate how much the profit is expected to change if the metal supplies increase by 500 square inches.  \n",
    "3. Solve the problem again with the increased metal supplies and verify the expected profit change and the new production plan.\n",
    "\n",
    "Use the following formula for profit change:  \n",
    "$$ \\Delta profit = \\Delta \\text{metal supplies quantity} \\cdot dual_{metal} $$\n",
    "\n",
    "---\n",
    "\n",
    "### HINT\n",
    "\n",
    "1. **What is the Shadow Price?**  \n",
    "   The shadow price (also called the dual value) of a constraint tells you how much the objective value (profit) will change per unit increase in the RHS of the constraint, as long as the change is within the **RHS tolerance interval**.\n",
    "\n",
    "2. **How to Find the Shadow Price?**  \n",
    "   - Solve the LP model with the original RHS.\n",
    "   - Check the **dual value** (`constraint.pi`) of the \"Metal Sheet Constraint\" in the solver's output. This is the shadow price.\n",
    "\n",
    "3. **Useful Methods**\n",
    "   - Use `shadow_model.constraints[\"Metal_Sheet_Constraint\"].changeRHS(new_rhs)` to update the RHS of the \"Metal Sheet Constraint\""
   ]
  },
  {
   "cell_type": "markdown",
   "id": "149ba3eb",
   "metadata": {},
   "source": [
    "### Solution:\n",
    "\n",
    "1. The shadow price is the rate of change in the objective function (profit, in this case) when the right-hand side (RHS) of a constraint is increased by one unit, while keeping all other factors constant. In the context of the metal sheet constraint, the shadow price tells us how much the profit would increase if the available metal were increased by one additional unit of metal (1 square inch).\n",
    "If the shadow price is positive, it means that the metal constraint is binding, and adding more metal will lead to an increase in profit because we can produce more products. If the shadow price is zero, it indicates that the metal constraint is not binding, i.e., there is unused metal capacity, and increasing the metal supply would not change the optimal production plan or profit.\n",
    "2. Using the shadow price of 2.67, the profit increase when the metal quantity increased by 500 square units is $1333.33.\n",
    "3. Solving the problem again with the increased metal supply, the new profit is $108000 which is $1333.33 more the $106666 when the metal quantity was 40000 square inches. This verifies the expected profit change calculated using the shadow price. "
   ]
  },
  {
   "cell_type": "code",
   "execution_count": 316,
   "id": "2310a05f",
   "metadata": {},
   "outputs": [
    {
     "name": "stdout",
     "output_type": "stream",
     "text": [
      "Shadow Price of Metal = 2.6666667\n",
      "Change in profit with Increased Metal Quantity (+500 square inches): $1333.3333499999999\n",
      "Model Solution Status: Optimal\n",
      "\n",
      "New Results with Increased Metal Supply:\n",
      "New Profit: 108000.0\n",
      "Production Plan:\n",
      "  x1: 0.0\n",
      "  x2: 0.0\n",
      "  x3: 0.0\n",
      "  x4: 1350.0\n"
     ]
    }
   ],
   "source": [
    "shadow_model = copy.deepcopy(main_model)\n",
    "\n",
    "# Solve the shadow price problem\n",
    "dual_metal = shadow_model.constraints[\"Metal_Sheet_Constraint\"].pi\n",
    "print(f\"Shadow Price of Metal = {dual_metal}\")\n",
    "\n",
    "delta_metal_quat = 500\n",
    "delta_profit = delta_metal_quat * dual_metal\n",
    "print(f\"Change in profit with Increased Metal Quantity (+{delta_metal_quat} square inches): ${delta_profit}\")\n",
    "\n",
    "# Update RHS\n",
    "shadow_model.constraints[\"Metal_Sheet_Constraint\"].changeRHS(40500)\n",
    "\n",
    "# Re-solve the problem\n",
    "shadow_model.solve(PULP_CBC_CMD(msg=0))\n",
    "print(f\"Model Solution Status: {LpStatus[shadow_model.status]}\")\n",
    "\n",
    "# Display the new results\n",
    "print(\"\\nNew Results with Increased Metal Supply:\")\n",
    "print(f\"New Profit: {shadow_model.objective.value()}\")\n",
    "print(\"Production Plan:\")\n",
    "for var in shadow_model.variables():\n",
    "    print(f\"  {var.name}: {var.value()}\")"
   ]
  },
  {
   "cell_type": "markdown",
   "id": "adee66b0",
   "metadata": {},
   "source": [
    "# Problem 6: Sensitivity of Labor Resources (5 points)\n",
    "\n",
    "## 6a) (1 point)\n",
    "How much labor is unused?\n",
    "\n",
    "HINT: What is the slack?"
   ]
  },
  {
   "cell_type": "markdown",
   "id": "a3d3dd2d",
   "metadata": {},
   "source": [
    "### Solution\n",
    "The labor slack is 666.66 hours."
   ]
  },
  {
   "cell_type": "code",
   "execution_count": null,
   "id": "9d739b21",
   "metadata": {},
   "outputs": [
    {
     "name": "stdout",
     "output_type": "stream",
     "text": [
      "Solution:\n",
      "Total Profit: $106666.66\n",
      "Production Plan:\n",
      "  x1: 0.0\n",
      "  x2: 0.0\n",
      "  x3: 0.0\n",
      "  x4: 1333.3333\n",
      "\n",
      "Slack Values for Constraints:\n",
      "Unused Labor Hours = 666.6666999999998\n",
      "Shadow Price of Labor = -0.0\n"
     ]
    }
   ],
   "source": [
    "labor_stack_model = copy.deepcopy(main_model)\n",
    "\n",
    "# Print the results\n",
    "print(\"Solution:\")\n",
    "print(f\"Total Profit: ${labor_stack_model.objective.value():.2f}\")\n",
    "print(\"Production Plan:\")\n",
    "for var in labor_stack_model.variables():\n",
    "    print(f\"  {var.name}: {var.varValue}\")\n",
    "\n",
    "# Check slack for each constraint\n",
    "print(\"\\nSlack Values for Constraints:\")\n",
    "slack_labor = labor_stack_model.constraints[\"labor_usage_constraint\"].slack\n",
    "print(f\"Unused Labor Hours = {slack_labor}\")\n",
    "\n",
    "dual_labor = labor_stack_model.constraints[\"labor_usage_constraint\"].pi\n",
    "print(f\"Shadow Price of Labor = {dual_labor}\")"
   ]
  },
  {
   "cell_type": "markdown",
   "id": "b90c54ba",
   "metadata": {},
   "source": [
    "## 6b) (2 points)\n",
    "How much would you be willing to pay an additional laborer?"
   ]
  },
  {
   "cell_type": "markdown",
   "id": "c4bdb9c6",
   "metadata": {},
   "source": [
    "### Solution:\n",
    "Since the shadow price is zero, the labor constraint is not binding, meaning there is unused labor capacity, and paying for additional labor would not increase the profit. I would not be willing to pay for an additional laborer as it will have no effect on the profit."
   ]
  },
  {
   "cell_type": "markdown",
   "id": "81eb7c5e",
   "metadata": {},
   "source": [
    "## 6c) (2 points)\n",
    "Suppose that industrial regulation complicate the process so it takes an additional hour of labor to turn a novice quality instrument into a professional quality instrument. How and why does that change affect the optimal production plan and profit?"
   ]
  },
  {
   "cell_type": "markdown",
   "id": "7c448e21",
   "metadata": {},
   "source": [
    "### Solution:\n",
    "\n",
    "The new industrial regulation that adds 1 hour of labor to upgrade novice instruments to professional quality will shift the optimal production plan and reduce profit. With the increased labor requirement for upgrades, the model is likely to produce more novice instruments (which require less labor) and fewer professional instruments, as labor is a limiting resource. Since novice instruments have lower profit margins than professional instruments, this shift will result in a decrease in total profit."
   ]
  },
  {
   "cell_type": "markdown",
   "id": "b44af695",
   "metadata": {},
   "source": [
    "# Problem 7: Sensitivity of New Constraint (5 points)\n",
    "\n",
    "## 7a) (4 points)\n",
    "The owner of the company comes up with a design for a beautiful hand-crafted tuba. Each tuba requires 250 hours of labor (6.25 weeks of full time work) and uses 50 square inches of metal. If the\n",
    "company can sell tubas for $200, would it be worthwhile to produce? Use:\n",
    "$$ \\text{(marginal cost of metal)}_{tuba} = \\text{(metal used)}_{tuba} \\cdot dual_{metal} $$\n",
    "\n",
    "Discuss how looking at the shadow prices of metal and labor can help\n",
    "you intuit whether diverting metal resources to tuba production is a good idea. Check your intuition with the solver."
   ]
  },
  {
   "cell_type": "markdown",
   "id": "eb32cc6f",
   "metadata": {},
   "source": [
    "### Solution:\n",
    "\n",
    "Looking at the shadow prices of metal and labor helps determine whether diverting resources to tuba production is a good idea. A high shadow price for metal means each additional square inch is valuable, making tubas less attractive if metal is scarce. A low shadow price for labor suggests that adding labor-intensive products (like tubas) may be feasible without significantly affecting profitability.\n",
    "The tuba could be profitable under current constraints, as it has a positive margin of $49.99 determined through the shadow prices below. However, its high labor demand could make it less attractive if labor becomes more constrained. The profits are also heavily impacted by the quantity of metal available as metal has a high shadow price, which puts profiting at risk if metal is scarce."
   ]
  },
  {
   "cell_type": "code",
   "execution_count": 424,
   "id": "88769b7e",
   "metadata": {},
   "outputs": [
    {
     "name": "stdout",
     "output_type": "stream",
     "text": [
      "Model Solution Status: Optimal\n",
      "\n",
      "New Results:\n",
      "New Profit: 106712.3269\n",
      "Production Plan:\n",
      "  x1: 0.0\n",
      "  x2: 0.0\n",
      "  x3: 0.0\n",
      "  x4: 1328.7671\n",
      "  x5: 2.739726\n",
      "\n",
      "Shadow Price for Constraints:\n",
      "  Metal_Sheet_Constraint: Shadow Price = 2.6575342\n",
      "  labor_usage_constraint: Shadow Price = 0.068493151\n",
      "\n",
      "Marginal Cost of Metal for Tuba = $132.87671\n",
      "Marginal Cost of Labor for Tuba = $17.12328775\n",
      "Total Effective Cost for Tuba = $149.99999775\n",
      "Effective Profit for Tuba = $50.000002249999994\n"
     ]
    }
   ],
   "source": [
    "from pulp import LpMaximize, LpProblem, LpVariable, value\n",
    "\n",
    "# Define the problem\n",
    "tuba_model = LpProblem(name=\"instrument-production\", sense=LpMaximize)\n",
    "\n",
    "# Define variables\n",
    "x1 = LpVariable(name=\"x1\", lowBound=0)  # Novice Trombone\n",
    "x2 = LpVariable(name=\"x2\", lowBound=0)  # Professional Trombone\n",
    "x3 = LpVariable(name=\"x3\", lowBound=0)  # Novice Trumpet\n",
    "x4 = LpVariable(name=\"x4\", lowBound=0)  # Professional Trumpet\n",
    "x5 = LpVariable(name=\"x5\", lowBound=0)  # Tubas\n",
    "\n",
    "# Define the problem and analyze the shadow prices\n",
    "# Objective function\n",
    "tuba_model += 30 * x1 + 100 * x2 + 30 * x3 + 80 * x4 + 150 * x5\n",
    "# Constraints\n",
    "# 1. Total metal sheet used\n",
    "tuba_model += (40 * x1 + 40 * x2 + 30 * x3 + 30 * x4 + 50 * x5 <= 40000, \"Metal_Sheet_Constraint\")\n",
    "# 2. Total skilled labor hours used\n",
    "tuba_model += (2 * x1 + 5 * x2 + 2 * x3 + 4 * x4 + 250 * x5 <= 6000, \"labor_usage_constraint\")\n",
    "# 3. Non-negativity constraints (already enforced by lowBound=0 in variable definition)\n",
    "\n",
    "# Solve the model\n",
    "tuba_model.solve()\n",
    "print(f\"Model Solution Status: {LpStatus[tuba_model.status]}\")\n",
    "\n",
    "# Display the new results\n",
    "print(\"\\nNew Results:\")\n",
    "print(f\"New Profit: {tuba_model.objective.value()}\")\n",
    "\n",
    "var_values = {}\n",
    "print(\"Production Plan:\")\n",
    "for var in tuba_model.variables():\n",
    "    print(f\"  {var.name}: {var.value()}\")\n",
    "    var_values[var.name] = (var.value())\n",
    "\n",
    "# Check slack for each constraint\n",
    "shadow_price = {}\n",
    "print(\"\\nShadow Price for Constraints:\")\n",
    "for name, constraint in tuba_model.constraints.items():\n",
    "    print(f\"  {name}: Shadow Price = {constraint.pi}\")\n",
    "    shadow_price[name] = (constraint.pi)\n",
    "\n",
    "# Extract the variable of interest\n",
    "metal_used_tuba = var_values['x5'] * 50\n",
    "labor_used_tuba = var_values['x5'] * 250\n",
    "marginal_cost_metal_tuba = 50 * shadow_price['Metal_Sheet_Constraint']\n",
    "marginal_cost_labor_tuba = 250 * shadow_price['labor_usage_constraint']\n",
    "total_effective_cost_tuba = marginal_cost_metal_tuba + marginal_cost_labor_tuba\n",
    "effective_profit_tuba = 200 - total_effective_cost_tuba\n",
    "print(f\"\\nMarginal Cost of Metal for Tuba = ${marginal_cost_metal_tuba}\\n\"\n",
    "        f\"Marginal Cost of Labor for Tuba = ${marginal_cost_labor_tuba}\\n\"\n",
    "        f\"Total Effective Cost for Tuba = ${total_effective_cost}\\n\"\n",
    "        f\"Effective Profit for Tuba = ${effective_profit_tuba}\")\n"
   ]
  },
  {
   "cell_type": "markdown",
   "id": "d6cda587",
   "metadata": {},
   "source": [
    "## 7b) (1 point)\n",
    "Is it profitable if tubas sell for $150? Why?"
   ]
  },
  {
   "cell_type": "markdown",
   "id": "4aea90da",
   "metadata": {},
   "source": [
    "### Solution:\n",
    "\n",
    "It is not profitable to sell the tubas for $150 because the model would go back to selling only professional quality trumpets as they have a higher profit margin, both due to using less metal and labor hours than tubas."
   ]
  },
  {
   "cell_type": "markdown",
   "id": "da67b98b",
   "metadata": {},
   "source": [
    "# Problem 8: Making Sense of the Dual Problem (5 points)\n",
    "\n",
    "## 8a) (3 points)\n",
    "Set up the original problem’s corresponding dual LP. Write an objective function that maximizes profits (market price - production costs) and all dual constraints."
   ]
  },
  {
   "cell_type": "code",
   "execution_count": 427,
   "id": "bacea266",
   "metadata": {},
   "outputs": [
    {
     "name": "stdout",
     "output_type": "stream",
     "text": [
      "Model Solution Status: Optimal\n",
      "\n",
      "Dual Model Results:\n",
      "New Profit: 106666.66799999999\n",
      "Production Plan:\n",
      "  y1: 2.6666667\n",
      "  y2: 0.0\n",
      "\n",
      "Shadow Price for Constraints:\n",
      "  novice_trombone_constraint: Shadow Price = 0.0\n",
      "  professional_trombone_constraint: Shadow Price = 0.0\n",
      "  novice_trumpet_constraint: Shadow Price = 0.0\n",
      "  professional_trumpet_constraint: Shadow Price = 1333.3333\n"
     ]
    }
   ],
   "source": [
    "from pulp import LpMinimize, LpProblem, LpVariable\n",
    "\n",
    "# Define the dual problem\n",
    "dual_model = LpProblem(name=\"dual-instrument-production\", sense=LpMinimize)\n",
    "\n",
    "# Define the dual problem\n",
    "# Define variables\n",
    "y1 = LpVariable(name=\"y1\", lowBound=0)  # Shadow Price of Metal per square inch\n",
    "y2 = LpVariable(name=\"y2\", lowBound=0)  # Shadow Price of Labor per hour\n",
    "\n",
    "# Define the problem and analyze the shadow prices\n",
    "# Objective function\n",
    "dual_model += 40000 * y1 + 6000 * y2\n",
    "# Constraints\n",
    "# 1. Novice Quality Trombone\n",
    "dual_model += (40 * y1 + 2 * y2 >= 30, \"novice_trombone_constraint\")\n",
    "# 2. Professional Quality Trombone\n",
    "dual_model += (40 * y1 + 5 * y2 >= 100, \"professional_trombone_constraint\")\n",
    "# 3. Novice Quality Trumpet\n",
    "dual_model += (30 * y1 + 2 * y2 >= 30, \"novice_trumpet_constraint\")\n",
    "# 4. Professional Quality Trumpet\n",
    "dual_model += (30 * y1 + 4 * y2 >= 80, \"professional_trumpet_constraint\")\n",
    "# 5. Non-negativity constraints (already enforced by lowBound=0 in variable definition)\n",
    "\n",
    "# Solve the model\n",
    "dual_model.solve()\n",
    "print(f\"Model Solution Status: {LpStatus[dual_model.status]}\")\n",
    "\n",
    "# Display the new results\n",
    "print(\"\\nDual Model Results:\")\n",
    "print(f\"New Profit: {dual_model.objective.value()}\")\n",
    "\n",
    "var_values = {}\n",
    "print(\"Production Plan:\")\n",
    "for var in dual_model.variables():\n",
    "    print(f\"  {var.name}: {var.value()}\")\n",
    "    var_values[var.name] = (var.value())\n",
    "\n",
    "# Check slack for each constraint\n",
    "shadow_price = {}\n",
    "print(\"\\nShadow Price for Constraints:\")\n",
    "for name, constraint in dual_model.constraints.items():\n",
    "    print(f\"  {name}: Shadow Price = {constraint.pi}\")\n",
    "    shadow_price[name] = (constraint.pi)\n"
   ]
  },
  {
   "cell_type": "markdown",
   "id": "746316b3",
   "metadata": {},
   "source": [
    "## 8b) (1 point)\n",
    "Run the code block below to solve the problem. What is the optimal profit? Give a plot of the constraints (you can use this [example](https://github.com/hakeemrehman/Python-PuLP-/blob/master/LP%20Using%20PuLP%20and%20Graphical%20Sol..ipynb) for guidance)."
   ]
  },
  {
   "cell_type": "code",
   "execution_count": 473,
   "id": "8fc9d1fd",
   "metadata": {},
   "outputs": [
    {
     "name": "stdout",
     "output_type": "stream",
     "text": [
      "Dual Problem Results:\n",
      "Optimal Value (Total Resource Value): 106666.66799999999\n"
     ]
    },
    {
     "data": {
      "image/png": "[encoded data removed]",
      "text/plain": [
       "<Figure size 640x480 with 1 Axes>"
      ]
     },
     "metadata": {},
     "output_type": "display_data"
    }
   ],
   "source": [
    "from pulp import *\n",
    "import matplotlib.pyplot as plt\n",
    "import numpy as np\n",
    "\n",
    "# Solve the dual problem\n",
    "dual_model.solve(PULP_CBC_CMD(msg=0))\n",
    "\n",
    "# Display the results\n",
    "print(\"Dual Problem Results:\")\n",
    "print(f\"Optimal Value (Total Resource Value): {dual_model.objective.value()}\")\n",
    "\n",
    "# Optimal Solution Plot\n",
    "x = np.arange(0, 10)\n",
    "plt.plot(x, (30 - 40*x)/2, label = '40y1 + 2y2 >= 30')\n",
    "plt.plot(x, (100 - 40*x)/5, label= '40y1 + 5y2 >= 100')\n",
    "plt.plot(x, (30 - 30*x)/2, label = '30y1 + 2y2 >= 30')\n",
    "plt.plot(x, (80 - 30*x)/4, label = '30y1 + 4y2 >= 80')\n",
    "\n",
    "# Define the boundaries of the feasible area in the plot\n",
    "x = [0, 2.66, 10, 10]\n",
    "y = [20, 0, 0, 20]\n",
    "plt.fill(x, y, 'grey')\n",
    "plt.axis([0, 10, 0, 20])\n",
    "plt.xlabel(\"y_1\")\n",
    "plt.ylabel(\"y_2\")\n",
    "plt.text(6, 10, 'Feasible \\n Region', size = '11')\n",
    "plt.plot(2.666, 0, 'ro', markersize = 7)\n",
    "plt.annotate('Optimal \\n solution\\n(2.666, 0)', xy = (3, 0.5))\n",
    "plt.grid(True)\n",
    "plt.legend()\n",
    "plt.show()\n"
   ]
  },
  {
   "cell_type": "markdown",
   "id": "0043540e",
   "metadata": {},
   "source": [
    "## 8c) (1 point)\n",
    "Say something about the relationship between dual variables and slackness in the primal and dual problem."
   ]
  },
  {
   "cell_type": "markdown",
   "id": "d92f9648",
   "metadata": {},
   "source": [
    "### Solution:\n",
    "\n",
    "The dual variables are the shadow variables from the primal problem. They function to minimize the slackness in the primal problem to reach an optimal solution."
   ]
  }
 ],
 "metadata": {
  "kernelspec": {
   "display_name": ".venv",
   "language": "python",
   "name": "python3"
  },
  "language_info": {
   "codemirror_mode": {
    "name": "ipython",
    "version": 3
   },
   "file_extension": ".py",
   "mimetype": "text/x-python",
   "name": "python",
   "nbconvert_exporter": "python",
   "pygments_lexer": "ipython3",
   "version": "3.11.9"
  }
 },
 "nbformat": 4,
 "nbformat_minor": 5
}
