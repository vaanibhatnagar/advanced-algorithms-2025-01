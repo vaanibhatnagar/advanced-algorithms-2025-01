{
 "cells": [
  {
   "cell_type": "markdown",
   "metadata": {},
   "source": [
    "# Integer Programming Homework\n",
    "\n",
    "## Total: 40 Points\n",
    "\n",
    "This notebook guides you through solving various Integer Programming (IP) problems and implementations. \n",
    "Follow the instructions provided in each section, write the required code, and answer the questions.\n",
    "\n",
    "<em>NOTE: You should have the necessary setup from the LP Homework assignment."
   ]
  },
  {
   "cell_type": "markdown",
   "metadata": {},
   "source": [
    "# Question 1: Maya's Midnight March (10 points)\n",
    "Maya's SCOPE team realized that they need someone to go out at midnight wearing white to test the visibility of pedestrians on crosswalks. Maya, who loves her hikes, happily volunteered. She needs to pack light in order to hit all the crosswalks in Needham. \n",
    "\n",
    "The maximum weight she wants to carry is 15 lbs. Here are the different items she can bring and their importance for her SCOPE team's data collection: \n",
    "\n",
    "+ Reflective Vest ($x_1$): Weight = 2 lbs, Importance = 6\n",
    "+ Light Meter ($x_2$): Weight = 4 lbs, Importance = 12\n",
    "+ DSLR Camera ($x_3$): Weight = 10 lbs, Importance = 4 (They really don't want to take pictures)\n",
    "+ Notebook ($x_4$): Weight = 5 lbs, Importance = 8\n",
    "+ Police Baton ($x_5$): Weight = 9 lbs, Importance = 10\n",
    "\n",
    "### Formulate the IP\n",
    "First, start by setting up the IP similar to the other problems. Write the objective function to maximize the total value of items brought.\n",
    "\n",
    "Write the equations using LaTeX, between the $$ tags. Then convert the IP problem into code using this documentation: [PuLP Guide](https://realpython.com/linear-programming-python/#using-pulp). Using a binary variable ensures that only integer solutions are provided.\n",
    "\n",
    "#### Solution:\n",
    "Objective Function: $$ Z = 6x_1+12x_2+4x_3+8x_4+10x_5 $$ \n",
    "Constraint: $$ 2x_1+4x_2+10x_3+5x_4+9x_5 <= 15 $$ "
   ]
  },
  {
   "cell_type": "code",
   "execution_count": 18,
   "metadata": {},
   "outputs": [
    {
     "data": {
      "text/plain": [
       "1"
      ]
     },
     "execution_count": 18,
     "metadata": {},
     "output_type": "execute_result"
    }
   ],
   "source": [
    "from pulp import *\n",
    "\n",
    "# Define the Problem\n",
    "model = LpProblem(name=\"mayas_march\", sense=LpMaximize) # type: ignore\n",
    "\n",
    "# Define the Variables\n",
    "# TODO: Define each of the decision variables here (each item). Remember to assign them as binary\n",
    "x = {\n",
    "    \"vest\": LpVariable(\"x1\", cat=\"Binary\"),\n",
    "    \"meter\": LpVariable(\"x2\", cat=\"Binary\"),\n",
    "    \"camera\": LpVariable(\"x3\", cat=\"Binary\"),\n",
    "    \"notebook\": LpVariable(\"x4\", cat=\"Binary\"),\n",
    "    \"baton\": LpVariable(\"x5\", cat=\"Binary\"),\n",
    "}\n",
    "\n",
    "# Objective Function\n",
    "model += lpSum([\n",
    "    6 * x[\"vest\"],\n",
    "    12 * x[\"meter\"],\n",
    "    4 * x[\"camera\"],\n",
    "    8 * x[\"notebook\"],\n",
    "    10 * x[\"baton\"]\n",
    "]), \"Total_Importance\"\n",
    "\n",
    "# Constraints\n",
    "model += lpSum([\n",
    "    2 * x[\"vest\"],\n",
    "    4 * x[\"meter\"],\n",
    "    10 * x[\"camera\"],\n",
    "    5 * x[\"notebook\"],\n",
    "    9 * x[\"baton\"]\n",
    "]) <= 15, \"Weight_Limit\"\n",
    "# Solve the Model\n",
    "model.solve()"
   ]
  },
  {
   "cell_type": "code",
   "execution_count": 19,
   "metadata": {},
   "outputs": [
    {
     "name": "stdout",
     "output_type": "stream",
     "text": [
      "x1 1.0\n",
      "x2 1.0\n",
      "x3 0.0\n",
      "x4 0.0\n",
      "x5 1.0\n"
     ]
    }
   ],
   "source": [
    "# Print the solution\n",
    "for var in model.variables():\n",
    "    print(var.name, var.value())"
   ]
  },
  {
   "cell_type": "markdown",
   "metadata": {},
   "source": [
    "Solution: <em>Write the items selected below.</em>\n",
    "\n",
    "- Items selected: <b> Vest, Meter, Baton</b>"
   ]
  },
  {
   "cell_type": "markdown",
   "metadata": {},
   "source": [
    "# Question 2: Branch And Bound (30 points)\n",
    "Branch and bound is one of the most common ways to solve optimization problems, including IP problems. It's a search algorithm that iteratively explores the space to find the optimal solution. \n",
    "\n",
    "Start by reading through this explanation: https://web.tecnico.ulisboa.pt/mcasquilho/compute/_linpro/TaylorB_module_c.pdf and writing pseudocode for the algorithm below. Then, we'll work through a scaffolded recursive implementation of the algorithm in Python. \n",
    "\n",
    "### Pseudocode\n",
    "1. Solve the linear programming (LP) relaxation of the problem (ignore integer constraints).  \n",
    "2. Set the initial node:  \n",
    "   - Upper bound = relaxed LP solution  \n",
    "   - Lower bound = rounded-down integer value of the solution  \n",
    "3. WHILE (optimal integer solution not found):  \n",
    "   a. Select a branching variable with the greatest fractional part.  \n",
    "   b. Create two new constraints:  \n",
    "      - One with ≤ constraint  \n",
    "      - One with ≥ constraint  \n",
    "   c. Generate two new nodes with these constraints.  \n",
    "   d. Solve the relaxed LP model at each node.  \n",
    "   e. Update bounds:  \n",
    "      - Upper bound = relaxed solution at each node  \n",
    "      - Lower bound = best known feasible integer solution  \n",
    "   f. IF (a feasible integer solution is found with the greatest upper bound value):  \n",
    "      - Optimal integer solution is reached.  \n",
    "   g. ELSE:  \n",
    "      - Select the node with the greatest upper bound and continue branching.  \n",
    "4. Repeat step 3 until an optimal integer solution is found.  \n",
    "\n",
    "### Implementation\n",
    "\n",
    "We start by defining our arrays for the system (c, A, b). c is an array of the coefficients of the objective function, and A and b are for each constraint. For example: \n",
    "\n",
    "$$ Z = 4x_1 + 3 x_2 + x_3$$\n",
    "$$ 3x_1 + 2x_2 + x_3 <= 7$$\n",
    "$$ 2x_1 + x_2 + 2x_3 <= 11$$\n",
    "\n",
    "From here, c = [4, 3, 1], A is [[3, 2, 1], [2, 1, 2]], and b is [7, 11]. \n",
    "\n",
    "If there are any upper or lower bounds on any variables, add those to the lb and ub list."
   ]
  },
  {
   "cell_type": "code",
   "execution_count": 23,
   "metadata": {},
   "outputs": [],
   "source": [
    "# Similar to the text, we'll have a function to find the relaxed solution of the IP (including decimal points)\n",
    "import scipy\n",
    "import numpy as np\n",
    "\n",
    "\"\"\"\n",
    "Python implementation of branch and bound algorithm for integer programming problems.\n",
    "\n",
    "Args:\n",
    "    c: array with objective function coefficients \n",
    "    A: 2D array with constraint coefficients\n",
    "    b: array with constraint values\n",
    "    lb: array with lower bound values for each variable\n",
    "    ub: array with upper bound values for each variable\n",
    "\n",
    "Returns: an array for values of each variable and the optimal objective function value\n",
    "\"\"\"\n",
    "def branch_and_bound(c, A, b, lb, ub):\n",
    "    optimized = scipy.optimize.linprog(-c, A, b, method=\"highs\", bounds=list(zip(lb, ub))) # Function to optimize current \n",
    "\n",
    "    x = optimized.x\n",
    "    z = optimized.fun\n",
    "\n",
    "    # TODO: First check if the problem is feasible or not (check if Z exists).\n",
    "    if not optimized.success:\n",
    "        return None  # No feasible solution exists\n",
    "    \n",
    "    # TODO: Then, check if the current variables are all integers or not. \n",
    "    all_integers = np.all(np.floor(x) == x)\n",
    "    \n",
    "    # TODO: If all variables are integers, we have reached the solution \n",
    "    if all_integers:\n",
    "        return x, z\n",
    "        \n",
    "    # Otherwise we need to branch the value with the most decimal difference similar to how the paper explained\n",
    "    else:\n",
    "        # TODO: Start by copying the lower bounds and upper bounds into new arrays. This is how we establish branching\n",
    "        left_lb = lb.copy()\n",
    "        left_up = ub.copy()\n",
    "\n",
    "        right_lb = lb.copy()\n",
    "        right_up = ub.copy()\n",
    "\n",
    "        # TODO: Find which variable has the maximum decimal difference and save the index (HINT: what math operation deals with remainders?)\n",
    "        fractional_parts = x - np.floor(x)\n",
    "        max_difference_idx = np.argmax(fractional_parts)\n",
    "\n",
    "        # TODO: Set the upper and lower bounds based on branching at that variable (floor and ceiling)\n",
    "        left_up[max_difference_idx] = np.floor(x[max_difference_idx])\n",
    "        right_lb[max_difference_idx] = np.ceil(x[max_difference_idx])\n",
    "\n",
    "        # TODO: Recursively get values for the optimized solution of the left and right nodes\n",
    "        left_solution = branch_and_bound(c, A, b, left_lb, left_up)\n",
    "        right_solution = branch_and_bound(c, A, b, right_lb, right_up)\n",
    "\n",
    "        if left_solution is None:\n",
    "            return right_solution\n",
    "        if right_solution is None:\n",
    "            return left_solution\n",
    "        if left_solution and right_solution is None:\n",
    "            return None\n",
    "\n",
    "        # TODO:Return the coefficients with the higher value of the two (HINT: This takes an if statement)\n",
    "        if left_solution[1] > right_solution[1]:\n",
    "            return left_solution \n",
    "        else:\n",
    "            return right_solution\n"
   ]
  },
  {
   "cell_type": "markdown",
   "metadata": {},
   "source": [
    "Now, lets test the function you've written on the sample problem written above. "
   ]
  },
  {
   "cell_type": "code",
   "execution_count": 24,
   "metadata": {},
   "outputs": [
    {
     "name": "stdout",
     "output_type": "stream",
     "text": [
      "Variable\n",
      ">  x0 = 1.0\n",
      ">  x1 = 2.0\n",
      ">  x2 = 0.0\n",
      "Objective Function: -10.0\n"
     ]
    }
   ],
   "source": [
    "c = np.array([4, 3, 1])\n",
    "A = np.array([[3, 2, 1], [2, 1, 2]])\n",
    "b = np.array([7, 11])\n",
    "\n",
    "lb = np.array([0, 0, 0])\n",
    "ub = np.array([None, None, None])\n",
    "\n",
    "solution = branch_and_bound(c, A, b, lb, ub)\n",
    "if solution is not None:\n",
    "    x_ = solution[0]\n",
    "    z = solution[1]\n",
    "\n",
    "print(\"Variable\")\n",
    "for idx, var in enumerate(x_): \n",
    "    print(f\">  x{idx} = {var}\")\n",
    "\n",
    "print(f\"Objective Function: {z}\")"
   ]
  },
  {
   "cell_type": "markdown",
   "metadata": {},
   "source": [
    "If correct, your solution should be x0 = 1, x1 = 2, and x2 = 0"
   ]
  }
 ],
 "metadata": {
  "kernelspec": {
   "display_name": ".venv",
   "language": "python",
   "name": "python3"
  },
  "language_info": {
   "codemirror_mode": {
    "name": "ipython",
    "version": 3
   },
   "file_extension": ".py",
   "mimetype": "text/x-python",
   "name": "python",
   "nbconvert_exporter": "python",
   "pygments_lexer": "ipython3",
   "version": "3.11.9"
  }
 },
 "nbformat": 4,
 "nbformat_minor": 2
}
